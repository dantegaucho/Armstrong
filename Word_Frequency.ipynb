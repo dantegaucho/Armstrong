{
 "cells": [
  {
   "cell_type": "code",
   "execution_count": 5,
   "id": "64d32103-5075-4354-8679-44ab7ea27697",
   "metadata": {},
   "outputs": [
    {
     "name": "stdin",
     "output_type": "stream",
     "text": [
      "Enter text The dog ate the cat then the dog\n"
     ]
    },
    {
     "name": "stdout",
     "output_type": "stream",
     "text": [
      "{'The': 1, 'dog': 2, 'ate': 1, 'the': 2, 'cat': 1, 'then': 1}\n"
     ]
    }
   ],
   "source": [
    "def main():\n",
    "    words = input(\"Enter text\").split()\n",
    "\n",
    "#create an empty dict\n",
    "    word_frequencies = {}\n",
    "\n",
    "#loop through each frequency of each word\n",
    "    for word in words:\n",
    "        word_frequencies[word] = word_frequencies.get(word,0) +1\n",
    "    print(word_frequencies)\n",
    "if __name__ == \"__main__\":\n",
    "    main()\n",
    "\n"
   ]
  },
  {
   "cell_type": "code",
   "execution_count": null,
   "id": "0bc66f9c-2b27-4460-b01c-b7f53a6d9959",
   "metadata": {},
   "outputs": [],
   "source": []
  },
  {
   "cell_type": "code",
   "execution_count": null,
   "id": "96147c91-8d02-48f1-bbaf-5ca8b4019861",
   "metadata": {},
   "outputs": [],
   "source": []
  }
 ],
 "metadata": {
  "kernelspec": {
   "display_name": "Python [conda env:base] *",
   "language": "python",
   "name": "conda-base-py"
  },
  "language_info": {
   "codemirror_mode": {
    "name": "ipython",
    "version": 3
   },
   "file_extension": ".py",
   "mimetype": "text/x-python",
   "name": "python",
   "nbconvert_exporter": "python",
   "pygments_lexer": "ipython3",
   "version": "3.12.7"
  }
 },
 "nbformat": 4,
 "nbformat_minor": 5
}
